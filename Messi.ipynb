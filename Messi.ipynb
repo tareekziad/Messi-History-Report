{
 "cells": [
  {
   "cell_type": "code",
   "execution_count": 141,
   "id": "14b8763c",
   "metadata": {},
   "outputs": [],
   "source": [
    "import pandas as pd \n",
    "import numpy as np \n",
    "import matplotlib.pyplot as plt \n",
    "import seaborn as sns\n",
    "import warnings\n",
    "import os \n",
    "from datetime import datetime"
   ]
  },
  {
   "cell_type": "code",
   "execution_count": 142,
   "id": "7fab6771",
   "metadata": {},
   "outputs": [],
   "source": [
    "from sklearn.impute import SimpleImputer"
   ]
  },
  {
   "cell_type": "code",
   "execution_count": 143,
   "id": "99e7276c",
   "metadata": {},
   "outputs": [],
   "source": [
    "warnings.filterwarnings('ignore')"
   ]
  },
  {
   "cell_type": "code",
   "execution_count": 144,
   "id": "86421443",
   "metadata": {},
   "outputs": [],
   "source": [
    "%matplotlib inline "
   ]
  },
  {
   "cell_type": "code",
   "execution_count": 145,
   "id": "edf909a6",
   "metadata": {},
   "outputs": [],
   "source": [
    "sns.set_theme(context = 'paper' , style = 'darkgrid' , palette = 'rocket' , font_scale = 1\n",
    "             , rc = {'figure.figsize' : (8 , 4)})"
   ]
  },
  {
   "cell_type": "code",
   "execution_count": 146,
   "id": "902b5a73",
   "metadata": {},
   "outputs": [
    {
     "data": {
      "text/html": [
       "<div>\n",
       "<style scoped>\n",
       "    .dataframe tbody tr th:only-of-type {\n",
       "        vertical-align: middle;\n",
       "    }\n",
       "\n",
       "    .dataframe tbody tr th {\n",
       "        vertical-align: top;\n",
       "    }\n",
       "\n",
       "    .dataframe thead th {\n",
       "        text-align: right;\n",
       "    }\n",
       "</style>\n",
       "<table border=\"1\" class=\"dataframe\">\n",
       "  <thead>\n",
       "    <tr style=\"text-align: right;\">\n",
       "      <th></th>\n",
       "      <th>Season</th>\n",
       "      <th>Competition</th>\n",
       "      <th>Matchday</th>\n",
       "      <th>Date</th>\n",
       "      <th>Venue</th>\n",
       "      <th>Club</th>\n",
       "      <th>Opponent</th>\n",
       "      <th>Result</th>\n",
       "      <th>Playing_Position</th>\n",
       "      <th>Minute</th>\n",
       "      <th>At_score</th>\n",
       "      <th>Type</th>\n",
       "      <th>Goal_assist</th>\n",
       "    </tr>\n",
       "  </thead>\n",
       "  <tbody>\n",
       "    <tr>\n",
       "      <th>0</th>\n",
       "      <td>04/05</td>\n",
       "      <td>LaLiga</td>\n",
       "      <td>34</td>\n",
       "      <td>5/1/05</td>\n",
       "      <td>H</td>\n",
       "      <td>FC Barcelona</td>\n",
       "      <td>Albacete Balompie</td>\n",
       "      <td>2:0</td>\n",
       "      <td>CF</td>\n",
       "      <td>90+1</td>\n",
       "      <td>2:0</td>\n",
       "      <td>Left-footed shot</td>\n",
       "      <td>Ronaldinho Gaacho</td>\n",
       "    </tr>\n",
       "    <tr>\n",
       "      <th>1</th>\n",
       "      <td>05/06</td>\n",
       "      <td>UEFA Champions League</td>\n",
       "      <td>Group Stage</td>\n",
       "      <td>11/2/05</td>\n",
       "      <td>H</td>\n",
       "      <td>FC Barcelona</td>\n",
       "      <td>Panathinaikos Athens</td>\n",
       "      <td>5:0</td>\n",
       "      <td>RW</td>\n",
       "      <td>34</td>\n",
       "      <td>3:0</td>\n",
       "      <td>Left-footed shot</td>\n",
       "      <td>NaN</td>\n",
       "    </tr>\n",
       "    <tr>\n",
       "      <th>2</th>\n",
       "      <td>05/06</td>\n",
       "      <td>LaLiga</td>\n",
       "      <td>13</td>\n",
       "      <td>11/27/05</td>\n",
       "      <td>H</td>\n",
       "      <td>FC Barcelona</td>\n",
       "      <td>Racing Santander</td>\n",
       "      <td>4:1</td>\n",
       "      <td>RW</td>\n",
       "      <td>51</td>\n",
       "      <td>2:0</td>\n",
       "      <td>Left-footed shot</td>\n",
       "      <td>Samuel Etoo</td>\n",
       "    </tr>\n",
       "    <tr>\n",
       "      <th>3</th>\n",
       "      <td>05/06</td>\n",
       "      <td>LaLiga</td>\n",
       "      <td>19</td>\n",
       "      <td>1/15/06</td>\n",
       "      <td>H</td>\n",
       "      <td>FC Barcelona</td>\n",
       "      <td>Athletic Bilbao</td>\n",
       "      <td>2:1</td>\n",
       "      <td>RW</td>\n",
       "      <td>50</td>\n",
       "      <td>2:1</td>\n",
       "      <td>Left-footed shot</td>\n",
       "      <td>Mark van Bommel</td>\n",
       "    </tr>\n",
       "    <tr>\n",
       "      <th>4</th>\n",
       "      <td>05/06</td>\n",
       "      <td>LaLiga</td>\n",
       "      <td>20</td>\n",
       "      <td>1/22/06</td>\n",
       "      <td>H</td>\n",
       "      <td>FC Barcelona</td>\n",
       "      <td>Deportivo Alaves</td>\n",
       "      <td>2:0</td>\n",
       "      <td>CF</td>\n",
       "      <td>82</td>\n",
       "      <td>2:0</td>\n",
       "      <td>Left-footed shot</td>\n",
       "      <td>Ronaldinho Gaacho</td>\n",
       "    </tr>\n",
       "  </tbody>\n",
       "</table>\n",
       "</div>"
      ],
      "text/plain": [
       "  Season            Competition     Matchday      Date Venue          Club  \\\n",
       "0  04/05                 LaLiga           34    5/1/05     H  FC Barcelona   \n",
       "1  05/06  UEFA Champions League  Group Stage   11/2/05     H  FC Barcelona   \n",
       "2  05/06                 LaLiga           13  11/27/05     H  FC Barcelona   \n",
       "3  05/06                 LaLiga           19   1/15/06     H  FC Barcelona   \n",
       "4  05/06                 LaLiga           20   1/22/06     H  FC Barcelona   \n",
       "\n",
       "               Opponent Result Playing_Position Minute At_score  \\\n",
       "0     Albacete Balompie    2:0               CF   90+1      2:0   \n",
       "1  Panathinaikos Athens    5:0               RW     34      3:0   \n",
       "2      Racing Santander    4:1               RW     51      2:0   \n",
       "3       Athletic Bilbao    2:1               RW     50      2:1   \n",
       "4      Deportivo Alaves    2:0               CF     82      2:0   \n",
       "\n",
       "               Type        Goal_assist  \n",
       "0  Left-footed shot  Ronaldinho Gaacho  \n",
       "1  Left-footed shot                NaN  \n",
       "2  Left-footed shot        Samuel Etoo  \n",
       "3  Left-footed shot    Mark van Bommel  \n",
       "4  Left-footed shot  Ronaldinho Gaacho  "
      ]
     },
     "execution_count": 146,
     "metadata": {},
     "output_type": "execute_result"
    }
   ],
   "source": [
    "df = pd.read_csv('Messi.csv')\n",
    "df.head()"
   ]
  },
  {
   "cell_type": "code",
   "execution_count": 147,
   "id": "01a9c1b6",
   "metadata": {},
   "outputs": [
    {
     "data": {
      "text/plain": [
       "11/12    73\n",
       "12/13    60\n",
       "14/15    58\n",
       "16/17    54\n",
       "10/11    53\n",
       "18/19    51\n",
       "09/10    47\n",
       "17/18    45\n",
       "13/14    41\n",
       "15/16    41\n",
       "08/09    38\n",
       "20/21    38\n",
       "19/20    31\n",
       "06/07    17\n",
       "07/08    16\n",
       "21/22    11\n",
       "05/06     8\n",
       "04/05     1\n",
       "Name: Season, dtype: int64"
      ]
     },
     "execution_count": 147,
     "metadata": {},
     "output_type": "execute_result"
    }
   ],
   "source": [
    "df['Season'].value_counts()"
   ]
  },
  {
   "cell_type": "code",
   "execution_count": 148,
   "id": "7eb874a1",
   "metadata": {},
   "outputs": [
    {
     "data": {
      "text/plain": [
       "<AxesSubplot:xlabel='Season', ylabel='count'>"
      ]
     },
     "execution_count": 148,
     "metadata": {},
     "output_type": "execute_result"
    },
    {
     "data": {
      "image/png": "[encoded data removed]",
      "text/plain": [
       "<Figure size 576x288 with 1 Axes>"
      ]
     },
     "metadata": {},
     "output_type": "display_data"
    }
   ],
   "source": [
    "sns.countplot(df['Season'])"
   ]
  },
  {
   "cell_type": "code",
   "execution_count": 149,
   "id": "a6cffcec",
   "metadata": {},
   "outputs": [
    {
     "data": {
      "text/plain": [
       "0      H\n",
       "1      H\n",
       "2      H\n",
       "3      H\n",
       "4      H\n",
       "      ..\n",
       "678    A\n",
       "679    H\n",
       "680    H\n",
       "681    A\n",
       "682    A\n",
       "Name: Venue, Length: 683, dtype: object"
      ]
     },
     "execution_count": 149,
     "metadata": {},
     "output_type": "execute_result"
    }
   ],
   "source": [
    "df['Venue']"
   ]
  },
  {
   "cell_type": "code",
   "execution_count": 150,
   "id": "878f40e7",
   "metadata": {},
   "outputs": [
    {
     "data": {
      "text/plain": [
       "array(['2:0', '5:0', '4:1', '2:1', '0:3', '5:1', '2:3', '3:0', '1:1',\n",
       "       '3:1', '3:3', '0:4', '5:2', '0:6', '2:2', '1:5', '1:4', '0:2',\n",
       "       '6:0', '1:6', '1:2', '6:1', '0:5', '1:0', '2:5', '1:3', '4:3',\n",
       "       '4:0', '0:1', '2:6', '4:2', '1:2 AET', '2:4', '0:8', '3:2', '8:0',\n",
       "       '7:1', '5:3', '0:7', '4:5', '7:0', '3:4', '5:4 AET', '6:2', '8:2',\n",
       "       '4:4'], dtype=object)"
      ]
     },
     "execution_count": 150,
     "metadata": {},
     "output_type": "execute_result"
    }
   ],
   "source": [
    "df['Result'].unique()"
   ]
  },
  {
   "cell_type": "code",
   "execution_count": 151,
   "id": "14197f58",
   "metadata": {},
   "outputs": [],
   "source": [
    "df['Date'] = pd.to_datetime(df['Date'] , errors = 'coerce')"
   ]
  },
  {
   "cell_type": "code",
   "execution_count": 152,
   "id": "59fe6b42",
   "metadata": {},
   "outputs": [],
   "source": [
    "df['Month'] = df['Date'].dt.month_name()"
   ]
  },
  {
   "cell_type": "code",
   "execution_count": 153,
   "id": "1ded9a27",
   "metadata": {},
   "outputs": [],
   "source": [
    "df['Year'] = df['Date'].dt.year"
   ]
  },
  {
   "cell_type": "code",
   "execution_count": 154,
   "id": "ad53e3fc",
   "metadata": {},
   "outputs": [],
   "source": [
    "df.drop(['Date'] , axis = 1 , inplace = True)"
   ]
  },
  {
   "cell_type": "code",
   "execution_count": 155,
   "id": "367ccf59",
   "metadata": {},
   "outputs": [
    {
     "data": {
      "text/html": [
       "<div>\n",
       "<style scoped>\n",
       "    .dataframe tbody tr th:only-of-type {\n",
       "        vertical-align: middle;\n",
       "    }\n",
       "\n",
       "    .dataframe tbody tr th {\n",
       "        vertical-align: top;\n",
       "    }\n",
       "\n",
       "    .dataframe thead th {\n",
       "        text-align: right;\n",
       "    }\n",
       "</style>\n",
       "<table border=\"1\" class=\"dataframe\">\n",
       "  <thead>\n",
       "    <tr style=\"text-align: right;\">\n",
       "      <th></th>\n",
       "      <th>Season</th>\n",
       "      <th>Competition</th>\n",
       "      <th>Matchday</th>\n",
       "      <th>Venue</th>\n",
       "      <th>Club</th>\n",
       "      <th>Opponent</th>\n",
       "      <th>Result</th>\n",
       "      <th>Playing_Position</th>\n",
       "      <th>Minute</th>\n",
       "      <th>At_score</th>\n",
       "      <th>Type</th>\n",
       "      <th>Goal_assist</th>\n",
       "      <th>Month</th>\n",
       "      <th>Year</th>\n",
       "    </tr>\n",
       "  </thead>\n",
       "  <tbody>\n",
       "    <tr>\n",
       "      <th>0</th>\n",
       "      <td>04/05</td>\n",
       "      <td>LaLiga</td>\n",
       "      <td>34</td>\n",
       "      <td>H</td>\n",
       "      <td>FC Barcelona</td>\n",
       "      <td>Albacete Balompie</td>\n",
       "      <td>2:0</td>\n",
       "      <td>CF</td>\n",
       "      <td>90+1</td>\n",
       "      <td>2:0</td>\n",
       "      <td>Left-footed shot</td>\n",
       "      <td>Ronaldinho Gaacho</td>\n",
       "      <td>May</td>\n",
       "      <td>2005</td>\n",
       "    </tr>\n",
       "    <tr>\n",
       "      <th>1</th>\n",
       "      <td>05/06</td>\n",
       "      <td>UEFA Champions League</td>\n",
       "      <td>Group Stage</td>\n",
       "      <td>H</td>\n",
       "      <td>FC Barcelona</td>\n",
       "      <td>Panathinaikos Athens</td>\n",
       "      <td>5:0</td>\n",
       "      <td>RW</td>\n",
       "      <td>34</td>\n",
       "      <td>3:0</td>\n",
       "      <td>Left-footed shot</td>\n",
       "      <td>NaN</td>\n",
       "      <td>November</td>\n",
       "      <td>2005</td>\n",
       "    </tr>\n",
       "    <tr>\n",
       "      <th>2</th>\n",
       "      <td>05/06</td>\n",
       "      <td>LaLiga</td>\n",
       "      <td>13</td>\n",
       "      <td>H</td>\n",
       "      <td>FC Barcelona</td>\n",
       "      <td>Racing Santander</td>\n",
       "      <td>4:1</td>\n",
       "      <td>RW</td>\n",
       "      <td>51</td>\n",
       "      <td>2:0</td>\n",
       "      <td>Left-footed shot</td>\n",
       "      <td>Samuel Etoo</td>\n",
       "      <td>November</td>\n",
       "      <td>2005</td>\n",
       "    </tr>\n",
       "    <tr>\n",
       "      <th>3</th>\n",
       "      <td>05/06</td>\n",
       "      <td>LaLiga</td>\n",
       "      <td>19</td>\n",
       "      <td>H</td>\n",
       "      <td>FC Barcelona</td>\n",
       "      <td>Athletic Bilbao</td>\n",
       "      <td>2:1</td>\n",
       "      <td>RW</td>\n",
       "      <td>50</td>\n",
       "      <td>2:1</td>\n",
       "      <td>Left-footed shot</td>\n",
       "      <td>Mark van Bommel</td>\n",
       "      <td>January</td>\n",
       "      <td>2006</td>\n",
       "    </tr>\n",
       "    <tr>\n",
       "      <th>4</th>\n",
       "      <td>05/06</td>\n",
       "      <td>LaLiga</td>\n",
       "      <td>20</td>\n",
       "      <td>H</td>\n",
       "      <td>FC Barcelona</td>\n",
       "      <td>Deportivo Alaves</td>\n",
       "      <td>2:0</td>\n",
       "      <td>CF</td>\n",
       "      <td>82</td>\n",
       "      <td>2:0</td>\n",
       "      <td>Left-footed shot</td>\n",
       "      <td>Ronaldinho Gaacho</td>\n",
       "      <td>January</td>\n",
       "      <td>2006</td>\n",
       "    </tr>\n",
       "    <tr>\n",
       "      <th>...</th>\n",
       "      <td>...</td>\n",
       "      <td>...</td>\n",
       "      <td>...</td>\n",
       "      <td>...</td>\n",
       "      <td>...</td>\n",
       "      <td>...</td>\n",
       "      <td>...</td>\n",
       "      <td>...</td>\n",
       "      <td>...</td>\n",
       "      <td>...</td>\n",
       "      <td>...</td>\n",
       "      <td>...</td>\n",
       "      <td>...</td>\n",
       "      <td>...</td>\n",
       "    </tr>\n",
       "    <tr>\n",
       "      <th>678</th>\n",
       "      <td>21/22</td>\n",
       "      <td>Ligue 1</td>\n",
       "      <td>23</td>\n",
       "      <td>A</td>\n",
       "      <td>Paris Saint-Germain</td>\n",
       "      <td>LOSC Lille</td>\n",
       "      <td>1:5</td>\n",
       "      <td>CF</td>\n",
       "      <td>38</td>\n",
       "      <td>1:3</td>\n",
       "      <td>Left-footed shot</td>\n",
       "      <td>NaN</td>\n",
       "      <td>February</td>\n",
       "      <td>2022</td>\n",
       "    </tr>\n",
       "    <tr>\n",
       "      <th>679</th>\n",
       "      <td>21/22</td>\n",
       "      <td>Ligue 1</td>\n",
       "      <td>30</td>\n",
       "      <td>H</td>\n",
       "      <td>Paris Saint-Germain</td>\n",
       "      <td>FC Lorient</td>\n",
       "      <td>5:1</td>\n",
       "      <td>RW</td>\n",
       "      <td>73</td>\n",
       "      <td>4:1</td>\n",
       "      <td>Left-footed shot</td>\n",
       "      <td>Kylian Mbappe</td>\n",
       "      <td>April</td>\n",
       "      <td>2022</td>\n",
       "    </tr>\n",
       "    <tr>\n",
       "      <th>680</th>\n",
       "      <td>21/22</td>\n",
       "      <td>Ligue 1</td>\n",
       "      <td>34</td>\n",
       "      <td>H</td>\n",
       "      <td>Paris Saint-Germain</td>\n",
       "      <td>RC Lens</td>\n",
       "      <td>1:1</td>\n",
       "      <td>RW</td>\n",
       "      <td>68</td>\n",
       "      <td>1:0</td>\n",
       "      <td>Left-footed shot</td>\n",
       "      <td>Neymar</td>\n",
       "      <td>April</td>\n",
       "      <td>2022</td>\n",
       "    </tr>\n",
       "    <tr>\n",
       "      <th>681</th>\n",
       "      <td>21/22</td>\n",
       "      <td>Ligue 1</td>\n",
       "      <td>37</td>\n",
       "      <td>A</td>\n",
       "      <td>Paris Saint-Germain</td>\n",
       "      <td>Montpellier</td>\n",
       "      <td>0:4</td>\n",
       "      <td>CF</td>\n",
       "      <td>6</td>\n",
       "      <td>0:1</td>\n",
       "      <td>Left-footed shot</td>\n",
       "      <td>Kylian Mbappé</td>\n",
       "      <td>May</td>\n",
       "      <td>2022</td>\n",
       "    </tr>\n",
       "    <tr>\n",
       "      <th>682</th>\n",
       "      <td>21/22</td>\n",
       "      <td>Ligue 1</td>\n",
       "      <td>37</td>\n",
       "      <td>A</td>\n",
       "      <td>Paris Saint-Germain</td>\n",
       "      <td>Montpellier</td>\n",
       "      <td>0:4</td>\n",
       "      <td>CF</td>\n",
       "      <td>20</td>\n",
       "      <td>0:2</td>\n",
       "      <td>Left-footed shot</td>\n",
       "      <td>Kylian Mbappé</td>\n",
       "      <td>May</td>\n",
       "      <td>2022</td>\n",
       "    </tr>\n",
       "  </tbody>\n",
       "</table>\n",
       "<p>683 rows × 14 columns</p>\n",
       "</div>"
      ],
      "text/plain": [
       "    Season            Competition     Matchday Venue                 Club  \\\n",
       "0    04/05                 LaLiga           34     H         FC Barcelona   \n",
       "1    05/06  UEFA Champions League  Group Stage     H         FC Barcelona   \n",
       "2    05/06                 LaLiga           13     H         FC Barcelona   \n",
       "3    05/06                 LaLiga           19     H         FC Barcelona   \n",
       "4    05/06                 LaLiga           20     H         FC Barcelona   \n",
       "..     ...                    ...          ...   ...                  ...   \n",
       "678  21/22                Ligue 1           23     A  Paris Saint-Germain   \n",
       "679  21/22                Ligue 1           30     H  Paris Saint-Germain   \n",
       "680  21/22                Ligue 1           34     H  Paris Saint-Germain   \n",
       "681  21/22                Ligue 1           37     A  Paris Saint-Germain   \n",
       "682  21/22                Ligue 1           37     A  Paris Saint-Germain   \n",
       "\n",
       "                 Opponent Result Playing_Position Minute At_score  \\\n",
       "0       Albacete Balompie    2:0               CF   90+1      2:0   \n",
       "1    Panathinaikos Athens    5:0               RW     34      3:0   \n",
       "2        Racing Santander    4:1               RW     51      2:0   \n",
       "3         Athletic Bilbao    2:1               RW     50      2:1   \n",
       "4        Deportivo Alaves    2:0               CF     82      2:0   \n",
       "..                    ...    ...              ...    ...      ...   \n",
       "678            LOSC Lille    1:5               CF     38      1:3   \n",
       "679            FC Lorient    5:1               RW     73      4:1   \n",
       "680               RC Lens    1:1               RW     68      1:0   \n",
       "681           Montpellier    0:4               CF      6      0:1   \n",
       "682           Montpellier    0:4               CF     20      0:2   \n",
       "\n",
       "                 Type        Goal_assist     Month  Year  \n",
       "0    Left-footed shot  Ronaldinho Gaacho       May  2005  \n",
       "1    Left-footed shot                NaN  November  2005  \n",
       "2    Left-footed shot        Samuel Etoo  November  2005  \n",
       "3    Left-footed shot    Mark van Bommel   January  2006  \n",
       "4    Left-footed shot  Ronaldinho Gaacho   January  2006  \n",
       "..                ...                ...       ...   ...  \n",
       "678  Left-footed shot                NaN  February  2022  \n",
       "679  Left-footed shot      Kylian Mbappe     April  2022  \n",
       "680  Left-footed shot             Neymar     April  2022  \n",
       "681  Left-footed shot      Kylian Mbappé       May  2022  \n",
       "682  Left-footed shot      Kylian Mbappé       May  2022  \n",
       "\n",
       "[683 rows x 14 columns]"
      ]
     },
     "execution_count": 155,
     "metadata": {},
     "output_type": "execute_result"
    }
   ],
   "source": [
    "df"
   ]
  },
  {
   "cell_type": "code",
   "execution_count": 156,
   "id": "285bc9cf",
   "metadata": {},
   "outputs": [],
   "source": [
    "df.drop(['Result' , 'At_score'] , axis = 1 , inplace = True)"
   ]
  },
  {
   "cell_type": "code",
   "execution_count": 157,
   "id": "b32bf945",
   "metadata": {},
   "outputs": [],
   "source": [
    "from sklearn.impute import SimpleImputer"
   ]
  },
  {
   "cell_type": "code",
   "execution_count": 158,
   "id": "7a773599",
   "metadata": {},
   "outputs": [],
   "source": [
    "sm = SimpleImputer(strategy = 'most_frequent')"
   ]
  },
  {
   "cell_type": "code",
   "execution_count": 159,
   "id": "521c98c7",
   "metadata": {},
   "outputs": [],
   "source": [
    "df['Type'] = sm.fit_transform(df[['Type']])"
   ]
  },
  {
   "cell_type": "code",
   "execution_count": 160,
   "id": "aa53a352",
   "metadata": {},
   "outputs": [
    {
     "data": {
      "text/plain": [
       "array(['LaLiga', 'UEFA Champions League', 'Copa del Rey', 'Supercopa',\n",
       "       'FIFA Club World Cup', 'UEFA Super Cup', 'Ligue 1'], dtype=object)"
      ]
     },
     "execution_count": 160,
     "metadata": {},
     "output_type": "execute_result"
    }
   ],
   "source": [
    "df['Competition'].unique()"
   ]
  },
  {
   "cell_type": "code",
   "execution_count": 161,
   "id": "9d833df3",
   "metadata": {},
   "outputs": [
    {
     "data": {
      "text/plain": [
       "array(['FC Barcelona', 'Paris Saint-Germain'], dtype=object)"
      ]
     },
     "execution_count": 161,
     "metadata": {},
     "output_type": "execute_result"
    }
   ],
   "source": [
    "df['Club'].unique()"
   ]
  },
  {
   "cell_type": "code",
   "execution_count": 162,
   "id": "7270fb48",
   "metadata": {},
   "outputs": [],
   "source": [
    "mod = df[(df['Club'] == 'FC Barcelona')]['Goal_assist'].mode()[0]\n",
    "idx = df[(df['Club'] == 'FC Barcelona') & (df['Goal_assist'].isnull())].index"
   ]
  },
  {
   "cell_type": "code",
   "execution_count": 163,
   "id": "8cef72c6",
   "metadata": {},
   "outputs": [],
   "source": [
    "df['Goal_assist'].loc[idx] = mod"
   ]
  },
  {
   "cell_type": "code",
   "execution_count": 164,
   "id": "2cf87075",
   "metadata": {},
   "outputs": [],
   "source": [
    "mod = df[(df['Club'] == 'Paris Saint-Germain')]['Goal_assist'].mode()[0]\n",
    "idx = df[(df['Club'] == 'Paris Saint-Germain') & (df['Goal_assist'].isnull())].index"
   ]
  },
  {
   "cell_type": "code",
   "execution_count": 167,
   "id": "9457b899",
   "metadata": {},
   "outputs": [
    {
     "data": {
      "text/plain": [
       "674    Kylian Mbappe\n",
       "677    Kylian Mbappe\n",
       "678    Kylian Mbappe\n",
       "Name: Goal_assist, dtype: object"
      ]
     },
     "execution_count": 167,
     "metadata": {},
     "output_type": "execute_result"
    }
   ],
   "source": [
    "df['Goal_assist'].loc[idx]"
   ]
  },
  {
   "cell_type": "code",
   "execution_count": 168,
   "id": "ef9132e6",
   "metadata": {},
   "outputs": [],
   "source": [
    "def mints(x):\n",
    "    try:\n",
    "        return int(x)\n",
    "    except:\n",
    "        return int(x.split('+')[0]) + int(x.split('+')[1]) "
   ]
  },
  {
   "cell_type": "code",
   "execution_count": 169,
   "id": "8a4fe679",
   "metadata": {},
   "outputs": [],
   "source": [
    "df['Minute'] = df['Minute'].apply(mints)"
   ]
  },
  {
   "cell_type": "code",
   "execution_count": 170,
   "id": "69854e0c",
   "metadata": {},
   "outputs": [
    {
     "data": {
      "text/plain": [
       "0      91\n",
       "1      34\n",
       "2      51\n",
       "3      50\n",
       "4      82\n",
       "       ..\n",
       "678    38\n",
       "679    73\n",
       "680    68\n",
       "681     6\n",
       "682    20\n",
       "Name: Minute, Length: 683, dtype: int64"
      ]
     },
     "execution_count": 170,
     "metadata": {},
     "output_type": "execute_result"
    }
   ],
   "source": [
    "df['Minute']"
   ]
  },
  {
   "cell_type": "code",
   "execution_count": 171,
   "id": "621094d4",
   "metadata": {},
   "outputs": [
    {
     "data": {
      "text/plain": [
       "array(['04/05', '05/06', '06/07', '07/08', '08/09', '09/10', '10/11',\n",
       "       '11/12', '12/13', '13/14', '14/15', '15/16', '16/17', '17/18',\n",
       "       '18/19', '19/20', '20/21', '21/22'], dtype=object)"
      ]
     },
     "execution_count": 171,
     "metadata": {},
     "output_type": "execute_result"
    }
   ],
   "source": [
    "df['Season'].unique()"
   ]
  },
  {
   "cell_type": "code",
   "execution_count": 172,
   "id": "5af9a9b6",
   "metadata": {},
   "outputs": [
    {
     "data": {
      "text/plain": [
       "Index(['Season', 'Competition', 'Matchday', 'Venue', 'Club', 'Opponent',\n",
       "       'Playing_Position', 'Minute', 'Type', 'Goal_assist', 'Month', 'Year'],\n",
       "      dtype='object')"
      ]
     },
     "execution_count": 172,
     "metadata": {},
     "output_type": "execute_result"
    }
   ],
   "source": [
    "df.columns"
   ]
  },
  {
   "cell_type": "code",
   "execution_count": 173,
   "id": "16b81176",
   "metadata": {},
   "outputs": [
    {
     "data": {
      "text/plain": [
       "array(['LaLiga', 'UEFA Champions League', 'Copa del Rey', 'Supercopa',\n",
       "       'FIFA Club World Cup', 'UEFA Super Cup', 'Ligue 1'], dtype=object)"
      ]
     },
     "execution_count": 173,
     "metadata": {},
     "output_type": "execute_result"
    }
   ],
   "source": [
    "df['Competition'].unique()"
   ]
  },
  {
   "cell_type": "code",
   "execution_count": 174,
   "id": "2d1f92c6",
   "metadata": {},
   "outputs": [
    {
     "data": {
      "text/plain": [
       "array(['34', 'Group Stage', '13', '19', '20', '21', 'Quarter-Finals',\n",
       "       '24', '1', '2', '6', '26', '27', '28', 'Semi-Finals', '35', '37',\n",
       "       '38', '4', '5', '7', '9', 'last 16', '25', '3', 'Fifth Round',\n",
       "       '11', '15', 'Round of 16', '18', '31', '33', 'Final', 'final', '8',\n",
       "       '10', '5th round', '17', '30', '36', '4th round', '12', '14', '22',\n",
       "       '32', '29', '16', '23'], dtype=object)"
      ]
     },
     "execution_count": 174,
     "metadata": {},
     "output_type": "execute_result"
    }
   ],
   "source": [
    "df['Matchday'].unique()"
   ]
  },
  {
   "cell_type": "code",
   "execution_count": 175,
   "id": "69e343ef",
   "metadata": {},
   "outputs": [
    {
     "data": {
      "text/plain": [
       "array(['H', 'A'], dtype=object)"
      ]
     },
     "execution_count": 175,
     "metadata": {},
     "output_type": "execute_result"
    }
   ],
   "source": [
    "df['Venue'].unique()"
   ]
  },
  {
   "cell_type": "code",
   "execution_count": 176,
   "id": "b86a005b",
   "metadata": {},
   "outputs": [],
   "source": [
    "df['Venue'] = df['Venue'].map({'H' : 'Home' , 'A' : 'Away'})"
   ]
  },
  {
   "cell_type": "code",
   "execution_count": 177,
   "id": "597e596e",
   "metadata": {},
   "outputs": [
    {
     "data": {
      "text/plain": [
       "array(['FC Barcelona', 'Paris Saint-Germain'], dtype=object)"
      ]
     },
     "execution_count": 177,
     "metadata": {},
     "output_type": "execute_result"
    }
   ],
   "source": [
    "df['Club'].unique()"
   ]
  },
  {
   "cell_type": "code",
   "execution_count": 178,
   "id": "d173429c",
   "metadata": {},
   "outputs": [
    {
     "data": {
      "text/plain": [
       "array(['Albacete Balompie', 'Panathinaikos Athens', 'Racing Santander',\n",
       "       'Athletic Bilbao', 'Deportivo Alaves', 'RCD Mallorca',\n",
       "       'Real Zaragoza', 'Real Betis Balompie', 'Celta de Vigo',\n",
       "       'CA Osasuna', 'SV Werder Bremen', 'Sevilla FC', 'Real Madrid',\n",
       "       'Recreativo Huelva', 'Deportivo de La Coruaa', 'Getafe CF',\n",
       "       'Atletico de Madrid', 'RCD Espanyol Barcelona',\n",
       "       'Gimnastic de Tarragona', 'Olympique Lyon', 'Levante UD',\n",
       "       'VfB Stuttgart', 'UD Almera', 'Rangers FC', 'Celtic FC',\n",
       "       'Valencia CF', 'Sporting GijÃ³n', 'Shakhtar Donetsk',\n",
       "       'FC Basel 1893', 'Malaga CF', 'Benidorm CD', 'Sporting CP',\n",
       "       'CD Numancia', 'Bayern Munich', 'Manchester United', 'Dynamo Kyiv',\n",
       "       'Cultural Leonesa', 'CF Atlante', 'Club Estudiantes de La Plata',\n",
       "       'CD Tenerife', 'Real Valladolid CF', 'Arsenal FC', 'Villarreal CF',\n",
       "       'FC Copenhagen', 'Club Atletico de Ceuta', 'Real Sociedad',\n",
       "       'Hercules CF', 'FC Porto', 'BATE Borisov', 'FC Viktoria Plzen',\n",
       "       'AC Milan', 'Rayo Vallecano', 'Santos FC', 'Bayer 04 Leverkusen',\n",
       "       'Granada CF', 'Spartak Moscow', 'CÃ³rdoba CF',\n",
       "       'Paris Saint-Germain', 'Ajax Amsterdam', 'Manchester City',\n",
       "       'Elche CF', 'SD Eibar', 'APOEL Nicosia', 'AS Roma',\n",
       "       'CA River Plate', 'CD Leganes', 'Borussia MÃ¶nchengladbach',\n",
       "       'UD Las Palmas', 'Juventus FC', 'Olympiacos Piraeus', 'Chelsea FC',\n",
       "       'Girona FC', 'SD Huesca', 'PSV Eindhoven', 'Tottenham Hotspur',\n",
       "       'Liverpool FC', 'SK Slavia Prague', 'Borussia Dortmund',\n",
       "       'SSC Napoli', 'Ferencvarosi TC', 'Cadiz CF', 'RB Leipzig',\n",
       "       'FC Nantes', 'Club Brugge KV', 'LOSC Lille', 'FC Lorient',\n",
       "       'RC Lens', 'Montpellier'], dtype=object)"
      ]
     },
     "execution_count": 178,
     "metadata": {},
     "output_type": "execute_result"
    }
   ],
   "source": [
    "df['Opponent'].unique()"
   ]
  },
  {
   "cell_type": "code",
   "execution_count": 179,
   "id": "d381034c",
   "metadata": {},
   "outputs": [],
   "source": [
    "df['Opponent'] = df['Opponent'].apply(lambda x : 'Sporting de Gijón' if x == 'Sporting GijÃ³n' else x)"
   ]
  },
  {
   "cell_type": "code",
   "execution_count": 180,
   "id": "0d6083d4",
   "metadata": {},
   "outputs": [],
   "source": [
    "df['Opponent'] = df['Opponent'].apply(lambda x : 'Córdoba CF' if x == 'CÃ³rdoba CF' else x)"
   ]
  },
  {
   "cell_type": "code",
   "execution_count": 181,
   "id": "739430bc",
   "metadata": {},
   "outputs": [],
   "source": [
    "df['Opponent'] = df['Opponent'].apply(lambda x : 'Borussia Mönchengladbach' if x == 'Borussia MÃ¶nchengladbach' else x)"
   ]
  },
  {
   "cell_type": "code",
   "execution_count": 182,
   "id": "5f9cea6e",
   "metadata": {},
   "outputs": [
    {
     "data": {
      "text/plain": [
       "Index(['Season', 'Competition', 'Matchday', 'Venue', 'Club', 'Opponent',\n",
       "       'Playing_Position', 'Minute', 'Type', 'Goal_assist', 'Month', 'Year'],\n",
       "      dtype='object')"
      ]
     },
     "execution_count": 182,
     "metadata": {},
     "output_type": "execute_result"
    }
   ],
   "source": [
    "df.columns"
   ]
  },
  {
   "cell_type": "code",
   "execution_count": 183,
   "id": "c167731f",
   "metadata": {},
   "outputs": [
    {
     "data": {
      "text/plain": [
       "array(['CF', 'RW', 'LW', 'SS', 'CF ', 'AM', 'RW ', 'AM ', 'SS '],\n",
       "      dtype=object)"
      ]
     },
     "execution_count": 183,
     "metadata": {},
     "output_type": "execute_result"
    }
   ],
   "source": [
    "df['Playing_Position'].unique()"
   ]
  },
  {
   "cell_type": "code",
   "execution_count": 184,
   "id": "926be451",
   "metadata": {},
   "outputs": [],
   "source": [
    "df['Playing_Position'] = df['Playing_Position'].apply(lambda x : x.strip())"
   ]
  },
  {
   "cell_type": "code",
   "execution_count": 185,
   "id": "ec2cc418",
   "metadata": {},
   "outputs": [
    {
     "data": {
      "text/plain": [
       "array(['Left-footed shot', 'Right-footed shot', 'Header', 'Solo run',\n",
       "       'Penalty', 'Deflected shot on goal', 'Direct free kick',\n",
       "       'Penalty rebound', 'Counter attack goal', 'Chest', 'Tap-in',\n",
       "       'Long distance kick'], dtype=object)"
      ]
     },
     "execution_count": 185,
     "metadata": {},
     "output_type": "execute_result"
    }
   ],
   "source": [
    "df['Type'].unique()"
   ]
  },
  {
   "cell_type": "code",
   "execution_count": 186,
   "id": "d6cf5275",
   "metadata": {},
   "outputs": [
    {
     "data": {
      "text/plain": [
       "array(['Ronaldinho Gaacho', 'Luis Suarez', 'Samuel Etoo',\n",
       "       'Mark van Bommel', 'Sylvinho', 'Ludovic Giuly', 'Andres Iniesta',\n",
       "       'Deco', 'Xavi', 'Giovanni van Bronckhorst', 'Gianluca Zambrotta',\n",
       "       'Thierry Henry', 'Bojan Krkic', 'Dani Alves', 'Aleksandr Hleb',\n",
       "       'Gerard Pique', 'Zlatan Ibrahimovic', 'Pedro', 'Ã‰ric Abidal',\n",
       "       'Yaya Toure', 'Seydou Keita', 'Maxwell', 'David Villa', 'Thiago',\n",
       "       'Adriano', 'Ibrahim Afellay', 'Sergio Busquets', 'Cesc Fabregas',\n",
       "       'Alexis Sanchez', 'Cristian Tello', 'Isaac Cuenca', 'Jordi Alba',\n",
       "       'Marta Montoya', 'Neymar', 'Alex Song', 'Antonio Amaya',\n",
       "       'Marc Bartra', 'Rafinha', 'Ivan Rakitic', 'Arda Turan',\n",
       "       'Munir El Haddadi', 'Lucas Digne', 'Sergi Roberto',\n",
       "       'Javier Mascherano', 'Paco Alcacer', 'Paulinho', 'Aleix Vidal',\n",
       "       'Denis Suarez', 'Ousmane Dembele', 'Philippe Coutinho',\n",
       "       'Arturo Vidal', 'Nelson Semedo', 'Malcom', 'Clement Lenglet',\n",
       "       'Antoine Griezmann', 'Arthur', 'Frenkie de Jong', 'Riqui Puig',\n",
       "       'Francisco TrincÃ£o', 'Pedri', 'Martin Braithwaite',\n",
       "       'Ilaix Moriba', 'Kylian Mbappe', 'Kylian Mbappé'], dtype=object)"
      ]
     },
     "execution_count": 186,
     "metadata": {},
     "output_type": "execute_result"
    }
   ],
   "source": [
    "df['Goal_assist'].unique()"
   ]
  },
  {
   "cell_type": "code",
   "execution_count": 187,
   "id": "a673ff98",
   "metadata": {},
   "outputs": [],
   "source": [
    "df['Goal_assist'] = df['Goal_assist'].apply(lambda x : 'Eric Abidal' if x == 'Ã‰ric Abidal' else x )"
   ]
  },
  {
   "cell_type": "code",
   "execution_count": 188,
   "id": "df84164d",
   "metadata": {},
   "outputs": [],
   "source": [
    "df['Goal_assist'] = df['Goal_assist'].apply(lambda x : 'Francisco Trincão' if x == 'Francisco TrincÃ£o' else x )"
   ]
  },
  {
   "cell_type": "code",
   "execution_count": 189,
   "id": "eb29dc64",
   "metadata": {},
   "outputs": [],
   "source": [
    "df['Goal_assist'] = df['Goal_assist'].apply(lambda x : 'Kylian Mbappé' if x == 'Kylian Mbappe' else x )"
   ]
  },
  {
   "cell_type": "code",
   "execution_count": 190,
   "id": "f0c81fac",
   "metadata": {},
   "outputs": [
    {
     "data": {
      "text/plain": [
       "Index(['Season', 'Competition', 'Matchday', 'Venue', 'Club', 'Opponent',\n",
       "       'Playing_Position', 'Minute', 'Type', 'Goal_assist', 'Month', 'Year'],\n",
       "      dtype='object')"
      ]
     },
     "execution_count": 190,
     "metadata": {},
     "output_type": "execute_result"
    }
   ],
   "source": [
    "df.columns"
   ]
  },
  {
   "cell_type": "code",
   "execution_count": 191,
   "id": "e8cf2fbd",
   "metadata": {},
   "outputs": [
    {
     "data": {
      "text/plain": [
       "0"
      ]
     },
     "execution_count": 191,
     "metadata": {},
     "output_type": "execute_result"
    }
   ],
   "source": [
    "df.duplicated().sum()"
   ]
  },
  {
   "cell_type": "code",
   "execution_count": 192,
   "id": "b3c34e96",
   "metadata": {},
   "outputs": [
    {
     "data": {
      "text/plain": [
       "Season              0.0\n",
       "Competition         0.0\n",
       "Matchday            0.0\n",
       "Venue               0.0\n",
       "Club                0.0\n",
       "Opponent            0.0\n",
       "Playing_Position    0.0\n",
       "Minute              0.0\n",
       "Type                0.0\n",
       "Goal_assist         0.0\n",
       "Month               0.0\n",
       "Year                0.0\n",
       "dtype: float64"
      ]
     },
     "execution_count": 192,
     "metadata": {},
     "output_type": "execute_result"
    }
   ],
   "source": [
    "df.isnull().mean()"
   ]
  },
  {
   "cell_type": "code",
   "execution_count": 193,
   "id": "97d78f60",
   "metadata": {},
   "outputs": [
    {
     "data": {
      "text/plain": [
       "0      91\n",
       "1      34\n",
       "2      51\n",
       "3      50\n",
       "4      82\n",
       "       ..\n",
       "678    38\n",
       "679    73\n",
       "680    68\n",
       "681     6\n",
       "682    20\n",
       "Name: Minute, Length: 683, dtype: int64"
      ]
     },
     "execution_count": 193,
     "metadata": {},
     "output_type": "execute_result"
    }
   ],
   "source": [
    "df['Minute']"
   ]
  },
  {
   "cell_type": "code",
   "execution_count": 194,
   "id": "02ae0aac",
   "metadata": {},
   "outputs": [],
   "source": [
    "def part(x):\n",
    "    if  0 <= x <= 22:\n",
    "        return '1st'\n",
    "    elif 23 <= x <= 45:\n",
    "        return '2nd'\n",
    "    elif 46 <= x <= 67:\n",
    "        return '3rd'\n",
    "    else :\n",
    "        return '4th'"
   ]
  },
  {
   "cell_type": "code",
   "execution_count": 195,
   "id": "4d976273",
   "metadata": {},
   "outputs": [],
   "source": [
    "df['Match Half'] = df['Minute'].apply(lambda x : '1st' if x <= 45 else '2nd')"
   ]
  },
  {
   "cell_type": "code",
   "execution_count": 196,
   "id": "72236c46",
   "metadata": {},
   "outputs": [],
   "source": [
    "df.to_csv('Leo Messi.csv' , index = False)"
   ]
  },
  {
   "cell_type": "code",
   "execution_count": null,
   "id": "244f5ec9",
   "metadata": {},
   "outputs": [],
   "source": []
  }
 ],
 "metadata": {
  "kernelspec": {
   "display_name": "Python 3 (ipykernel)",
   "language": "python",
   "name": "python3"
  },
  "language_info": {
   "codemirror_mode": {
    "name": "ipython",
    "version": 3
   },
   "file_extension": ".py",
   "mimetype": "text/x-python",
   "name": "python",
   "nbconvert_exporter": "python",
   "pygments_lexer": "ipython3",
   "version": "3.10.4"
  }
 },
 "nbformat": 4,
 "nbformat_minor": 5
}
